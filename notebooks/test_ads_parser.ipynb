{
  "cells": [
    {
      "cell_type": "markdown",
      "metadata": {},
      "source": [
        "# ADS Parser Testing Notebook\n",
        "\n",
        "This notebook tests the ADS parser functionality including:\n",
        "- Connection testing\n",
        "- Paper information retrieval with abstracts\n",
        "- Dedicated abstract retrieval function\n",
        "- Testing with bibcodes from WUMaCat.csv\n",
        "\n",
        "## Features Available:\n",
        "- `test_ads_connection()` - Tests API connectivity\n",
        "- `get_paper_info(bibcode, show_abstract=True)` - Full paper information\n",
        "- `get_abstract(bibcode)` - Dedicated abstract retrieval\n"
      ]
    },
    {
      "cell_type": "code",
      "execution_count": 3,
      "metadata": {},
      "outputs": [
        {
          "name": "stdout",
          "output_type": "stream",
          "text": [
            "✅ Libraries imported successfully\n",
            "✅ ADS parser functions available\n",
            "✅ Ready for testing!\n"
          ]
        }
      ],
      "source": [
        "# Setup and imports\n",
        "import sys\n",
        "import os\n",
        "\n",
        "# Add the src directory to the path\n",
        "sys.path.append('../src')\n",
        "\n",
        "# Import our ADS parser functions\n",
        "from ads_parser import test_ads_connection, get_paper_info, get_abstract\n",
        "\n",
        "print(\"✅ Libraries imported successfully\")\n",
        "print(\"✅ ADS parser functions available\")\n",
        "print(\"✅ Ready for testing!\")\n"
      ]
    },
    {
      "cell_type": "code",
      "execution_count": 4,
      "metadata": {},
      "outputs": [
        {
          "name": "stdout",
          "output_type": "stream",
          "text": [
            "🔍 Testing ADS API connection...\n",
            "========================================\n",
            "🔍 Testing ADS API connection...\n",
            "✅ ADS API connection successful!\n",
            "   Found 1103 total results\n",
            "   Retrieved 1 documents\n",
            "\n",
            "✅ Connection test passed! Ready to retrieve abstracts.\n"
          ]
        }
      ],
      "source": [
        "# Test 1: ADS API Connection\n",
        "print(\"🔍 Testing ADS API connection...\")\n",
        "print(\"=\"*40)\n",
        "\n",
        "connection_success = test_ads_connection()\n",
        "\n",
        "if connection_success:\n",
        "    print(\"\\n✅ Connection test passed! Ready to retrieve abstracts.\")\n",
        "else:\n",
        "    print(\"\\n❌ Connection test failed! Please check your ADS API token.\")\n"
      ]
    },
    {
      "cell_type": "code",
      "execution_count": 5,
      "metadata": {},
      "outputs": [
        {
          "name": "stdout",
          "output_type": "stream",
          "text": [
            "📄 Testing dedicated abstract retrieval function\n",
            "============================================================\n",
            "Bibcode: 2020AJ....159..189L\n",
            "\n",
            "📄 Retrieving abstract for bibcode: 2020AJ....159..189L\n",
            "✅ Abstract retrieved successfully\n",
            "   Title: The First Light Curve Modeling and Orbital Period Change Investigation of Nine Contact Binaries around the Short-period Cutoff\n",
            "   Abstract length: 1402 characters\n",
            "\n",
            "📄 Abstract:\n",
            "------------------------------------------------------------\n",
            "In this paper, we present the first light curve synthesis and orbital period change analysis of nine contact binaries around the short-period limit. It is found that all these systems are W-subtype contact binaries. One of them is a medium contact system while the others are shallow contact ones. Four of them manifest obvious O'Connell effect explained by a dark spot or hot spot on one of the component stars. Third light was detected in three systems. By investigating orbital period variations, we found that four of the targets display a secular period decrease while the others exhibit a long-term period increase. The secular period decrease is more likely caused by angular-momentum loss while the long-term period increase is due to mass transfer from the less massive component to the more massive one. Based on the statistic of 19 ultrashort-period contact binaries with known orbital period changes, we found that seven of them display long-term decrease (three of them also exhibit cyclic variations), ten of them manifest long-term increase while two of them only show cyclic variation, and that most of them are shallow contact binaries supporting the long timescale angular-momentum loss theory suggested by Stepien. For the three deep contact systems, we found that they are probably triple systems. The tertiary companion plays an essential role during their formation and evolution.\n",
            "------------------------------------------------------------\n",
            "\n",
            "🎉 Abstract successfully retrieved!\n",
            "Length: 1402 characters\n"
          ]
        }
      ],
      "source": [
        "# Test 2: Abstract Retrieval with get_abstract()\n",
        "test_bibcode = \"2020AJ....159..189L\"  # From WUMaCat.csv\n",
        "\n",
        "print(\"📄 Testing dedicated abstract retrieval function\")\n",
        "print(\"=\"*60)\n",
        "print(f\"Bibcode: {test_bibcode}\")\n",
        "print()\n",
        "\n",
        "abstract = get_abstract(test_bibcode)\n",
        "\n",
        "if abstract:\n",
        "    print(f\"\\n🎉 Abstract successfully retrieved!\")\n",
        "    print(f\"Length: {len(abstract)} characters\")\n",
        "else:\n",
        "    print(\"\\n❌ Failed to retrieve abstract\")\n"
      ]
    },
    {
      "cell_type": "code",
      "execution_count": 6,
      "metadata": {},
      "outputs": [
        {
          "name": "stdout",
          "output_type": "stream",
          "text": [
            "📄 Testing get_paper_info() with abstract options\n",
            "============================================================\n",
            "1. With abstract display enabled:\n",
            "🔍 Retrieving paper information for bibcode: 2020AJ....159..189L\n",
            "✅ Successfully retrieved paper information\n",
            "   Title: The First Light Curve Modeling and Orbital Period Change Investigation of Nine Contact Binaries around the Short-period Cutoff\n",
            "   Authors: Li, Kai, Kim, Chun-Hwey, Xia, Qi-Qi, Michel, Raul, Hu, Shao-Ming, Gao, Xing, Guo, Di-Fu, Chen, Xu\n",
            "   Year: 2020\n",
            "   Journal: The Astronomical Journal\n",
            "   Abstract: In this paper, we present the first light curve synthesis and orbital period change analysis of nine contact binaries around the short-period limit. It is found that all these systems are W-subtype contact binaries. One of them is a medium contact system while the others are shallow contact ones. Four of them manifest obvious O'Connell effect explained by a dark spot or hot spot on one of the component stars. Third light was detected in three systems. By investigating orbital period variations, we found that four of the targets display a secular period decrease while the others exhibit a long-term period increase. The secular period decrease is more likely caused by angular-momentum loss while the long-term period increase is due to mass transfer from the less massive component to the more massive one. Based on the statistic of 19 ultrashort-period contact binaries with known orbital period changes, we found that seven of them display long-term decrease (three of them also exhibit cyclic variations), ten of them manifest long-term increase while two of them only show cyclic variation, and that most of them are shallow contact binaries supporting the long timescale angular-momentum loss theory suggested by Stepien. For the three deep contact systems, we found that they are probably triple systems. The tertiary companion plays an essential role during their formation and evolution.\n",
            "\n",
            "============================================================\n",
            "2. With abstract display disabled:\n",
            "🔍 Retrieving paper information for bibcode: 2020AJ....159..189L\n",
            "✅ Successfully retrieved paper information\n",
            "   Title: The First Light Curve Modeling and Orbital Period Change Investigation of Nine Contact Binaries around the Short-period Cutoff\n",
            "   Authors: Li, Kai, Kim, Chun-Hwey, Xia, Qi-Qi, Michel, Raul, Hu, Shao-Ming, Gao, Xing, Guo, Di-Fu, Chen, Xu\n",
            "   Year: 2020\n",
            "   Journal: The Astronomical Journal\n",
            "\n",
            "📊 Abstract data available in returned dictionary:\n",
            "   Abstract length: 1402 characters\n"
          ]
        }
      ],
      "source": [
        "# Test 3: Paper Info with Abstract Control\n",
        "print(\"📄 Testing get_paper_info() with abstract options\")\n",
        "print(\"=\"*60)\n",
        "\n",
        "# Test with abstract display enabled (default)\n",
        "print(\"1. With abstract display enabled:\")\n",
        "paper_info = get_paper_info(test_bibcode, show_abstract=True)\n",
        "\n",
        "print(\"\\n\" + \"=\"*60)\n",
        "\n",
        "# Test with abstract display disabled\n",
        "print(\"2. With abstract display disabled:\")\n",
        "paper_info_no_abstract = get_paper_info(test_bibcode, show_abstract=False)\n",
        "\n",
        "if paper_info and 'abstract' in paper_info:\n",
        "    print(f\"\\n📊 Abstract data available in returned dictionary:\")\n",
        "    print(f\"   Abstract length: {len(paper_info['abstract'])} characters\")\n",
        "else:\n",
        "    print(\"\\n❌ No abstract data in returned dictionary\")\n"
      ]
    },
    {
      "cell_type": "code",
      "execution_count": 4,
      "metadata": {},
      "outputs": [
        {
          "name": "stdout",
          "output_type": "stream",
          "text": [
            "📚 Testing BULK bibcode retrieval\n",
            "============================================================\n",
            "Testing with 5 bibcodes\n",
            "Recommended batch size: 50-100 bibcodes per request\n",
            "\n",
            "🔍 Retrieving information for 5 papers in batches of 3\n",
            "\n",
            "📦 Processing batch 1/2 (3 bibcodes)\n",
            "   Rate limit remaining: 4986\n",
            "   ✅ Retrieved 3 papers from batch\n",
            "\n",
            "📦 Processing batch 2/2 (2 bibcodes)\n",
            "   Rate limit remaining: 4985\n",
            "   ✅ Retrieved 2 papers from batch\n",
            "\n",
            "🎉 Bulk retrieval completed! Retrieved 5/5 papers\n",
            "\n",
            "📊 Bulk Results Summary:\n",
            "   Successfully retrieved: 5 papers\n",
            "   Available bibcodes: ['2020AJ....159..189L', '2015AJ....150..117Q', '2018NewA...59....8S', '2018Ap&SS.363...15L', '2015NewA...41...22J']\n"
          ]
        }
      ],
      "source": [
        "# Test 5: Bulk Bibcode Requests (NEW FEATURE)\n",
        "# Import the new bulk function\n",
        "from ads_parser import get_bulk_paper_info\n",
        "\n",
        "# Test with multiple bibcodes from WUMaCat.csv\n",
        "bulk_test_bibcodes = [\n",
        "    \"2020AJ....159..189L\",  # 1SWASP J003033.05+574347.6\n",
        "    \"2018NewA...59....8S\",  # 1SWASP J011732.10+525204.9  \n",
        "    \"2015AJ....150..117Q\",  # 1SWASP J015100.23-100524.2\n",
        "    \"2015NewA...41...22J\",  # Test another one\n",
        "    \"2018Ap&SS.363...15L\"   # And one more\n",
        "]\n",
        "\n",
        "print(\"📚 Testing BULK bibcode retrieval\")\n",
        "print(\"=\"*60)\n",
        "print(f\"Testing with {len(bulk_test_bibcodes)} bibcodes\")\n",
        "print(\"Recommended batch size: 50-100 bibcodes per request\")\n",
        "print()\n",
        "\n",
        "# Test bulk retrieval with small batch size for demo\n",
        "bulk_results = get_bulk_paper_info(bulk_test_bibcodes, show_abstracts=False, batch_size=3)\n",
        "\n",
        "if bulk_results:\n",
        "    print(f\"\\n📊 Bulk Results Summary:\")\n",
        "    print(f\"   Successfully retrieved: {len(bulk_results)} papers\")\n",
        "    print(f\"   Available bibcodes: {list(bulk_results.keys())}\")\n",
        "else:\n",
        "    print(\"\\n❌ Bulk retrieval failed\")\n"
      ]
    },
    {
      "cell_type": "code",
      "execution_count": null,
      "metadata": {},
      "outputs": [],
      "source": [
        "# Test 6: Download All Catalogue Abstracts to JSON\n",
        "from ads_parser import download_catalogue_abstracts\n",
        "\n",
        "# Test with a small sample first (first 10 papers)\n",
        "print(\"🧪 TESTING: Download abstracts for first 10 papers from WUMaCat.csv\")\n",
        "print(\"=\"*70)\n",
        "\n",
        "# This will download abstracts and save to JSON\n",
        "# Format: {\"papers\": {\"bibcode\": {\"title\": \"...\", \"abstract\": \"...\"}}}\n",
        "\n",
        "# Uncomment the line below to run the full catalogue download:\n",
        "# results = download_catalogue_abstracts(\"../data/WUMaCat.csv\", \"wumacat_abstracts.json\", batch_size=50)\n",
        "\n",
        "print(\"💡 To run the full download, uncomment the line above\")\n",
        "print(\"💡 This will download ~689 papers in batches of 50\")\n",
        "print(\"💡 Estimated time: ~20-30 minutes (with 2-second delays)\")\n",
        "print(\"💡 Output: JSON file with title and abstract for each bibcode\")\n"
      ]
    },
    {
      "cell_type": "code",
      "execution_count": null,
      "metadata": {},
      "outputs": [],
      "source": []
    }
  ],
  "metadata": {
    "kernelspec": {
      "display_name": ".venv",
      "language": "python",
      "name": "python3"
    },
    "language_info": {
      "codemirror_mode": {
        "name": "ipython",
        "version": 3
      },
      "file_extension": ".py",
      "mimetype": "text/x-python",
      "name": "python",
      "nbconvert_exporter": "python",
      "pygments_lexer": "ipython3",
      "version": "3.10.14"
    }
  },
  "nbformat": 4,
  "nbformat_minor": 2
}
